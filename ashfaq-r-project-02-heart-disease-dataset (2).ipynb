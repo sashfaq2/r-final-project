{
 "cells": [
  {
   "cell_type": "markdown",
   "metadata": {},
   "source": [
    "<p align=\"center\">\n",
    "    <img src=\"https://raw.githubusercontent.com/carlosdg/PrediccionEnfermedadCoronaria/master/docs/images/HeartImage__GordonJohnson__Pixabay.png\" alt=\"Image of a heart and an electrocardiogram with two normal heart beat\" />\n",
    "</p>\n",
    "\n",
    "# Table of contents\n",
    "\n",
    "1. [Introduction](#Introduction)\n",
    "2. [Context](#Context)\n",
    "    1. [Blood and heart](#Blood-and-heart)\n",
    "    2. [Coronary heart disease](#Coronary-heart-disease)\n",
    "3. [Glossary of terms](#Glossary-of-terms)\n",
    "4. [Dataset](#Dataset)\n",
    "    1. [Dataset problems](#Dataset-problems)\n",
    "    2. [Dataset features](#Dataset-features)\n",
    "        1. [target](#target)\n",
    "        2. [age](#age)\n",
    "        3. [sex](#sex)\n",
    "        4. [cp](#cp)\n",
    "        5. [trestbps](#trestbps)\n",
    "        6. [chol](#chol)\n",
    "        7. [fbs](#fbs)\n",
    "        8. [restecg](#restecg)\n",
    "        9. [thalach](#thalach)\n",
    "        10. [exang](#exang)\n",
    "        11. [oldpeak](#oldpeak)\n",
    "        12. [slope](#slope)\n",
    "        13. [thal](#thal)\n",
    "        14. [ca](#ca)\n",
    "5. [Models](#Models)\n",
    "    1. [Logistic-regression](#Logistic-regression)\n",
    "    2. [Decision-tree](#Decision-tree)\n",
    "    3. [Naive-bayes](#Naive-bayes)\n",
    "    4. [Random-forest](#Random-forest)\n",
    "6. [Results](#Results)\n",
    "    1. [Summary-of-the-training](#Summary-of-the-training)\n",
    "    2. [Final-results](#Final-results)\n",
    "7. [Bibliography](#Bibliography)\n",
    "\n",
    "<a id=\"Introduction\"></a>\n",
    "# Introduction\n",
    "\n",
    "According to the National Heart, Lung and Blood Institute:\n",
    "\n",
    "> Heart disease is a catch-all phrase for a variety of conditions that affect the heart’s structure and function. Coronary heart disease is a type of heart disease that develops when the arteries of the heart cannot deliver enough oxygen-rich blood to the heart. __It is the leading cause of death in the United States__.\n",
    "\n",
    "(Emphasis by me. Source: https://www.nhlbi.nih.gov/health-topics/espanol/enfermedad-coronaria)\n",
    "\n",
    "Also, according to the World Health Organization, cardiovascular diseases are the __leading cause of death globally__ (source:  https://www.who.int/news-room/fact-sheets/detail/cardiovascular-diseases-(cvds)). \n",
    "\n",
    "In this notebook we try to learn enough information of this topic to understand the [Heart Disease UCI](https://www.kaggle.com/ronitf/heart-disease-uci) dataset and build simple models to predict whether a patient has a disease or not based on features like the heart rate during exercise or the cholesterol levels in the blood.\n",
    "\n",
    "\n",
    "<a id=\"Context\"></a>\n",
    "# Context\n",
    "\n",
    "<a id=\"Blood-and-heart\"></a>\n",
    "## Blood and heart\n",
    "\n",
    "Blood is very important to ensure the proper functioning of the body. Its functions cover the transport of oxygen and nutrients to the cells of the body as well as the removal of the cellular waste products.\n",
    "\n",
    "Blood is transported to the rest of the body because it is pumped by the heart. This organ receives oxygen-poor blood and sends it to the lungs to oxygenate it. And sends the oxygen-rich blood that comes from the lugns to the rest of the body.\n",
    "\n",
    "<p align=\"center\">\n",
    "  <img src=\"https://raw.githubusercontent.com/carlosdg/PrediccionEnfermedadCoronaria/master/docs/images/Latidos.gif\" alt=\"Blood flow through the chambers of the heart\" />\n",
    "</p>\n",
    "\n",
    "By josiño - Own work, Public Domain, https://commons.wikimedia.org/w/index.php?curid=9396374. Flow of the blood through the chambers of the heart. Blue arrows represent oxygen-poor blood received from the rest of the body and sent to the lungs. Red arrows represent oxygen-rich blood coming from the lungs that is sent to the rest of the body.\n",
    "\n",
    "An inadequate supply of the blood can yield the cells to not get enough energy to function properly, causing the death of the cells in the worst case.\n",
    "\n",
    "\n",
    "<a id=\"Coronary-heart-disease\"></a>\n",
    "## Coronary heart disease\n",
    "\n",
    "The heart also needs oxygen and nutrients to function properly, these come through arteries known as coronary arteries. When we talk about a coronary disease, we often mean a difficulty of the blood flow in these arteries due to the accumulation of substances on their walls.\n",
    "\n",
    "<p align=\"center\" class=\"figure\">\n",
    "  <img src=\"https://raw.githubusercontent.com/carlosdg/PrediccionEnfermedadCoronaria/master/docs/images/Heart_attack-NIH.gif\" alt=\"Death of heart cells due to an ischemia in the coronary arteries\">\n",
    "</p>\n",
    "\n",
    "By NIH: National Heart, Lung and Blood Institute - http://www.nhlbi.nih.gov/health/health-topics/topics/heartattack/, Public Domain, https://commons.wikimedia.org/w/index.php?curid=25287085. Death of heart cells due to an ischemia in the coronary arteries.\n",
    "\n",
    "In the worst case, the impact of leaving the cells of the heart without nutrients and oxygen is a heart attack, in other words, the death of part of the heart cells. This, in turn, would have an impact on the rest of the body because the pumping of the heart would be affected.\n",
    "\n",
    "\n",
    "<a id=\"Glossary-of-terms\"></a>\n",
    "## Glossary of terms\n",
    "\n",
    "- **Atherosclerosis:** accumulation of substances on the walls of arteries which can hinder the blood flow. Moreover, the rupture of this plaque of substances can cause the formation of a blood clot (thrombus) that, in turn, can block even more the affected area or go to other parts of the body and block those parts (embolism). (Sources: [American Heart Association](https://www.heart.org/en/health-topics/cholesterol/about-cholesterol/atherosclerosis), [Mayo Clinic](https://www.mayoclinic.org/diseases-conditions/arteriosclerosis-atherosclerosis/symptoms-causes/syc-20350569))\n",
    "\n",
    "- **Ischemia:** blood flow reduction to a tissue. This implies a reduction of the supply of oxygen and nutrients, so cells won't get enough energy to function properly. (Sources: [American Heart Association](https://www.heart.org/en/health-topics/heart-attack/about-heart-attacks/silent-ischemia-and-ischemic-heart-disease), [Mayo Clinic](https://www.mayoclinic.org/diseases-conditions/myocardial-ischemia/symptoms-causes/syc-20375417), [Wikipedia](https://en.wikipedia.org/wiki/Ischemia))\n",
    "\n",
    "- **Angina:** chest pain due to a blood flow reduction in the coronary arteries. (Sources: [United Kingdom National Health Service](https://www.nhs.uk/conditions/angina/), [(Spanish) Video sobre angina de Alberto Sanagustín](https://www.youtube.com/watch?v=3UhItS50mRI))\n",
    "\n",
    "- **Stable angina:** angina caused by situations that requires oxygen (for example, exercise or stress) and it goes away on rest.\n",
    "\n",
    "- **Unstable angina:** angina that can happen even on rest.\n",
    "\n",
    "- **Typican & atypical angina:** typical angina usually means a chest disconfort. However, looks like some people can experience other symptoms like nausea or shortness of breath. In these cases people talk about atypical angina. (Sources: [Harrington Hospital](https://www.harringtonhospital.org/typical-and-atypical-angina-what-to-look-for/), [Wikipedia](https://en.wikipedia.org/wiki/Angina#Diagnosis)).\n",
    "\n",
    "- **Thrombus:** blood mass in solid state that hinders the blood flow in a blood vessel. (Source: [MedlinePlus](https://medlineplus.gov/ency/article/001124.htm))\n",
    "\n",
    "- **Embolus:** thrombus that detatches and goes to other parts of the body. (Source: [MedlinePlus](https://medlineplus.gov/ency/article/001124.htm))\n",
    "\n",
    "- **Acute myocardial infarction:** also known as _heart attack_, is the death of part of the heart tissue due to an ischemia. In other words, it is the death of part of the cells due to the lack of oxygen. (Sources: [Healthline](https://www.healthline.com/health/acute-myocardial-infarction#causes), [Wikipedia](https://en.wikipedia.org/wiki/Infarction))\n",
    "\n",
    "- **Electrocardiogram:** graph record of the electric signals that causes heart beats. Each part of the record of a normal heart beat has a name, the most interesting ones for this project are the T wave and the ST segment because they can give some information about the presence of issues like an ischemia or infarction. (Sources: [Mayo Clinic](https://www.mayoclinic.org/tests-procedures/ekg/about/pac-20384983), [Wikipedia](https://es.wikipedia.org/wiki/Electrocardiograma), [(Spanish) Video sobre electrocardiograma de Alberto Sanagustín](https://www.youtube.com/watch?v=A67NDj3_RrU), [(Spanish) Serie de videos sobre el electrocardiograma normal de Alberto Sangaustín](https://www.youtube.com/watch?v=SLe281LBBRU&list=PL3BE5DA0A5DF3BF75))\n",
    "\n",
    "- **Nuclear stress test:** a radioactive dye is injected into the patient to see the blood flow on rest and doing exercise. Moreover, during this test the activity of the heart is also measured with an electrocardiogram. (Sources: [Mayo Clinic](https://www.mayoclinic.org/tests-procedures/nuclear-stress-test/about/pac-20385231), [Healthline](https://www.healthline.com/health/thallium-stress-test))\n",
    "\n",
    "- **Asymptomatic disease:** a disease that a patient has but they experience very few or no symptoms. (Sources: [(Spanish) definicion.de](https://definicion.de/asintomatico/), [MayoClinic](https://www.mayoclinic.org/es-es/diseases-conditions/heart-attack/expert-answers/silent-heart-attack/faq-20057777), [Wikipedia](https://en.wikipedia.org/wiki/Asymptomatic))\n",
    "\n",
    "- **Left ventricular hypertrophy:** thickening of the walls of the main heart chamber that pumps the blood to the rest of the body. This can cause the muscle to loose elasticity which, in turns, causes the heart to not work properly. (Sources: [Mayo Clinic](https://www.mayoclinic.org/diseases-conditions/left-ventricular-hypertrophy/symptoms-causes/syc-20374314))\n",
    "\n",
    "\n",
    "<a id=\"Dataset\"></a>\n",
    "# Dataset\n",
    "\n",
    "This dataset is hosted on Kaggle ([Heart Disease UCI](https://www.kaggle.com/ronitf/heart-disease-uci)), and it was from [UCI Machine Learning Repository](https://archive.ics.uci.edu/ml/datasets/Heart+Disease). There are records of about 300 patients from Cleveland and the features are described in a following section.\n",
    "\n",
    "\n",
    "<a id=\"Dataset-problems\"></a>\n",
    "## Dataset problems\n",
    "\n",
    "Thanks to the [post of _InitPic_ ](https://www.kaggle.com/ronitf/heart-disease-uci/discussion/105877) we noted that this dataset is a bit different from the original one while the description is the same. \n",
    "\n",
    "Part of these differences is that there were a few null values in the original dataset that have taken some values here:\n",
    "\n",
    "> A few more things to consider:\n",
    "> \n",
    "> data #93, 159, 164, 165 and 252 have ca=4 which is incorrect. In the original Cleveland dataset they are NaNs (so they should be removed)\n",
    "> \n",
    "> data #49 and 282 have thal = 0, also incorrect. They are also NaNs in the original dataset.\n",
    "\n",
    "Because these are just a few instances, I decided to drop them. \n",
    "\n",
    "There are also some differences regarding the features of the dataset which are corrected below.\n",
    "\n",
    "\n",
    "<a id=\"Dataset-features\"></a>\n",
    "## Dataset features"
   ]
  },
  {
   "cell_type": "code",
   "execution_count": 1,
   "metadata": {
    "_kg_hide-input": true,
    "_kg_hide-output": true,
    "execution": {
     "iopub.execute_input": "2022-05-24T06:42:28.219897Z",
     "iopub.status.busy": "2022-05-24T06:42:28.219037Z",
     "iopub.status.idle": "2022-05-24T06:42:30.662152Z"
    }
   },
   "outputs": [
    {
     "ename": "SyntaxError",
     "evalue": "invalid syntax (Temp/ipykernel_18284/1270112644.py, line 10)",
     "output_type": "error",
     "traceback": [
      "\u001b[1;36m  File \u001b[1;32m\"C:\\Users\\sadia\\AppData\\Local\\Temp/ipykernel_18284/1270112644.py\"\u001b[1;36m, line \u001b[1;32m10\u001b[0m\n\u001b[1;33m    missing_ca_indeces <- which(data$ca %in% 4)\u001b[0m\n\u001b[1;37m                                    ^\u001b[0m\n\u001b[1;31mSyntaxError\u001b[0m\u001b[1;31m:\u001b[0m invalid syntax\n"
     ]
    }
   ],
   "source": [
    "# Libraries\n",
    "library(ggplot2)\n",
    "library(caret)\n",
    "library(rpart.plot)\n",
    "\n",
    "# Read the data\n",
    "data <- read.csv('../input/heart-disease-uci/heart.csv')\n",
    "\n",
    "# Drop the null values\n",
    "missing_ca_indeces <- which(data$ca %in% 4)\n",
    "missing_thal_indeces <-which(data$thal %in% 0)\n",
    "missing_values_indeces <- c(missing_ca_indeces, missing_thal_indeces)\n",
    "data <- data[-missing_values_indeces, ]\n",
    "\n",
    "# Transform categorical variable to R factors\n",
    "data$sex <- as.factor(data$sex)\n",
    "data$cp <- as.factor(data$cp)\n",
    "data$fbs <- as.factor(data$fbs)\n",
    "data$restecg <- as.factor(data$restecg)\n",
    "data$exang <- as.factor(data$exang)\n",
    "data$slope <- as.factor(data$slope)\n",
    "data$thal <- as.factor(data$thal)\n",
    "data$target <- as.factor(data$target)\n",
    "\n",
    "# Give a better name to the factor values for the graphs\n",
    "levels(data$sex) <- c(\"Female\", \"Male\")\n",
    "levels(data$cp) <- c(\"Asymptomatic\", \"Atypical angina\", \"No angina\", \"Typical angina\")\n",
    "levels(data$fbs) <- c(\"No\", \"Yes\")\n",
    "levels(data$restecg) <- c(\"Hypertrophy\", \"Normal\", \"Abnormalities\")\n",
    "levels(data$exang) <- c(\"No\", \"Yes\")\n",
    "levels(data$slope) <- c(\"Descending\", \"Flat\", \"Ascending\")\n",
    "levels(data$thal) <- c(\"Fixed defect\", \"Normal flow\", \"Reversible defect\")\n",
    "levels(data$target) <- c(\"Yes\", \"No\")"
   ]
  },
  {
   "cell_type": "markdown",
   "metadata": {},
   "source": [
    "<a id=\"target\"></a>\n",
    "### target\n",
    "\n",
    "Target variable: whether the patient has a heart disease or not\n",
    "\n",
    "- Value 0: yes\n",
    "- Value 1: no\n",
    "\n",
    "We can see that the distribution is quite balanced. Thanks to this it wouldn't be a bad idea using accuracy to evaluate how well the models perform."
   ]
  },
  {
   "cell_type": "code",
   "execution_count": 20,
   "metadata": {
    "_kg_hide-input": true,
    "execution": {
     "iopub.execute_input": "2022-05-24T06:43:30.916643Z",
     "iopub.status.busy": "2022-05-24T06:43:30.913934Z",
     "iopub.status.idle": "2022-05-24T06:43:31.135901Z"
    }
   },
   "outputs": [],
   "source": [
    "ggplot(data, aes(target, fill=target)) + \n",
    "  geom_bar() +\n",
    "  labs(x=\"Disease\", y=\"Number of patients\") +\n",
    "  guides(fill=FALSE)"
   ]
  },
  {
   "cell_type": "markdown",
   "metadata": {},
   "source": [
    "<a id=\"age\"></a>\n",
    "### age\n",
    "\n",
    "Patient age in years. In the data we can see, as expected, that age is a risk factor. In other words, the higher the age, the more likely that the patient has a heart disease."
   ]
  },
  {
   "cell_type": "code",
   "execution_count": 3,
   "metadata": {
    "_kg_hide-input": true,
    "execution": {
     "iopub.execute_input": "2022-05-24T06:42:31.446064Z",
     "iopub.status.busy": "2022-05-24T06:42:31.444382Z",
     "iopub.status.idle": "2022-05-24T06:42:31.898005Z"
    }
   },
   "outputs": [],
   "source": [
    "ggplot(data, aes(age, fill=target)) + \n",
    "  geom_histogram(binwidth=1) +\n",
    "  labs(fill=\"Disease\", x=\"Age\", y=\"Number of patients\")"
   ]
  },
  {
   "cell_type": "markdown",
   "metadata": {},
   "source": [
    "<a id=\"sex\"></a>\n",
    "### sex\n",
    "\n",
    "Patient sex\n",
    "\n",
    "- Value 0: female\n",
    "- Value 1: male\n",
    "\n",
    "There are approximately half the observation of women than men. We can also see that sex is a risk factor, like some of the references indicate, men are more likely to have a heart disease than women."
   ]
  },
  {
   "cell_type": "code",
   "execution_count": 4,
   "metadata": {
    "_kg_hide-input": true,
    "execution": {
     "iopub.execute_input": "2022-05-24T06:42:31.901331Z",
     "iopub.status.busy": "2022-05-24T06:42:31.899609Z",
     "iopub.status.idle": "2022-05-24T06:42:32.214478Z"
    }
   },
   "outputs": [],
   "source": [
    "ggplot(data, aes(sex, fill=target)) + \n",
    "  geom_bar() +\n",
    "  labs(fill=\"Disease\", x=\"Sex\", y=\"Number of patients\")"
   ]
  },
  {
   "cell_type": "markdown",
   "metadata": {},
   "source": [
    "<a id=\"cp\"></a>\n",
    "### cp\n",
    "\n",
    "Chest pain type\n",
    "\n",
    "- Value 0: asymptomatic\n",
    "- Value 1: atypical angina\n",
    "- Value 2: pain without relation to angina\n",
    "- Value 3: typical angina\n",
    "\n",
    "The description of the data doesn't provide information about how this classification of pain was made. But we can see that it is very difficult to tell whether a patient has a heart disease attending just to the symptoms of the patients."
   ]
  },
  {
   "cell_type": "code",
   "execution_count": 5,
   "metadata": {
    "_kg_hide-input": true,
    "execution": {
     "iopub.execute_input": "2022-05-24T06:42:32.217885Z",
     "iopub.status.busy": "2022-05-24T06:42:32.216100Z",
     "iopub.status.idle": "2022-05-24T06:42:32.531974Z"
    }
   },
   "outputs": [],
   "source": [
    "ggplot(data, aes(cp, fill=target)) +\n",
    "  geom_bar() +\n",
    "  labs(fill=\"Disease\", x=\"Chest pain type\", y=\"Number of patients\")"
   ]
  },
  {
   "cell_type": "markdown",
   "metadata": {},
   "source": [
    "<a id=\"trestbps\"></a>\n",
    "### trestbps\n",
    "\n",
    "Resting blood pressure in millimeters of mercury (mm Hg) when the patient was admitted to the hospital.\n",
    "\n",
    "By the different peaks, looks like most people tend to have a normal blood pressure inside certain groups (could be healthy adults, adults that take medication, seniors...). It also looks like very high pressures can indicate that there is a heart disease."
   ]
  },
  {
   "cell_type": "code",
   "execution_count": 6,
   "metadata": {
    "_kg_hide-input": true,
    "execution": {
     "iopub.execute_input": "2022-05-24T06:42:32.535925Z",
     "iopub.status.busy": "2022-05-24T06:42:32.533806Z",
     "iopub.status.idle": "2022-05-24T06:42:32.868951Z"
    }
   },
   "outputs": [],
   "source": [
    "ggplot(data, aes(trestbps, fill=target)) +\n",
    "  geom_histogram(binwidth=3) +\n",
    "  labs(fill=\"Disease\", x=\"Blood pressure (mm Hg)\", y=\"Number of patients\")"
   ]
  },
  {
   "cell_type": "markdown",
   "metadata": {},
   "source": [
    "<a id=\"chol\"></a>\n",
    "### chol\n",
    "\n",
    "Cholesterol level in mg/dl. This is a variable that we can control to prevent the disease. Looks like the majority of the people in the dataset have high levels of cholesterol. It also looks like up to a certain level, the presence of a heart disease is slightly higher on higher cholesterol levels. Though the cases that have the highest levels of cholesterol don't have a heart disease, it could be that these people weren't fasting when the blood sample was taken."
   ]
  },
  {
   "cell_type": "code",
   "execution_count": 7,
   "metadata": {
    "_kg_hide-input": true,
    "execution": {
     "iopub.execute_input": "2022-05-24T06:42:32.872215Z",
     "iopub.status.busy": "2022-05-24T06:42:32.870836Z",
     "iopub.status.idle": "2022-05-24T06:42:33.215459Z"
    }
   },
   "outputs": [],
   "source": [
    "ggplot(data, aes(chol, fill=target)) +\n",
    "  geom_histogram(binwidth=10) +\n",
    "  labs(fill=\"Disease\", x=\"Cholesterol (mg/dl)\", y=\"Number of patients\")"
   ]
  },
  {
   "cell_type": "markdown",
   "metadata": {},
   "source": [
    "<a id=\"fbs\"></a>\n",
    "### fbs\n",
    "\n",
    "Whether the level of sugar in the blood is higher than 120 mg/dl or not. This is another variable that we can control. However, by itself it doesn't seem very useful to know if a patient has a heart disease or not. Though we shouldn't drop it right now because it might be useful combined with other variables.\n",
    "\n",
    "- Value 0: no\n",
    "- Value 1: yes"
   ]
  },
  {
   "cell_type": "code",
   "execution_count": 8,
   "metadata": {
    "_kg_hide-input": true,
    "execution": {
     "iopub.execute_input": "2022-05-24T06:42:33.219092Z",
     "iopub.status.busy": "2022-05-24T06:42:33.217446Z",
     "iopub.status.idle": "2022-05-24T06:42:33.531194Z"
    }
   },
   "outputs": [],
   "source": [
    "ggplot(data, aes(fbs, fill=target)) +\n",
    "  geom_bar() +\n",
    "  labs(fill=\"Disease\", x=\"Sugar level > 120 mg/dl\", y=\"Number of patients\")"
   ]
  },
  {
   "cell_type": "markdown",
   "metadata": {},
   "source": [
    "Hereon, variables are related to a nuclear stress test. That is, a stress test where a radioactive dye is also injected to the patient to see the blood flow.\n",
    "\n",
    "<a id=\"restecg\"></a>\n",
    "### restecg\n",
    "\n",
    "Results of the electrocardiogram on rest\n",
    "\n",
    "- Value 0: probable left ventricular hypertrophy\n",
    "- Value 1: normal\n",
    "- Value 2: abnormalities in the T wave or ST segment\n",
    "\n",
    "When someone has a heart disease the first symptom usually is stable angina (angina during exercise). When angina happens even on rest the disease got worse (usually due to a narrowing of the coronary arteries). This has to be why there are so few patients that show an abnormality on the heart rate on rest, and it is also why seeing this abnormality is very indicative of a presence of a heart disease. \n",
    "\n",
    "On the other hand, the value 0, *probable* presence of an hipertrophy, doesn't seem to be very indicative of the presence of a heart disease by itself. It can be because this variable is not very accurate (as noted by the \"probable presence\")."
   ]
  },
  {
   "cell_type": "code",
   "execution_count": 9,
   "metadata": {
    "_kg_hide-input": true,
    "execution": {
     "iopub.execute_input": "2022-05-24T06:42:33.534985Z",
     "iopub.status.busy": "2022-05-24T06:42:33.532815Z",
     "iopub.status.idle": "2022-05-24T06:42:33.852238Z"
    }
   },
   "outputs": [],
   "source": [
    "ggplot(data, aes(restecg, fill=target)) +\n",
    "  geom_bar() +\n",
    "  labs(fill=\"Disease\", x=\"Electrocardiogram on rest\", y=\"Number of patients\")"
   ]
  },
  {
   "cell_type": "markdown",
   "metadata": {},
   "source": [
    "<a id=\"thalach\"></a>\n",
    "### thalach\n",
    "\n",
    "Maxium heart rate during the stress test\n",
    "\n",
    "At first sight it may seem weird to see that the higher the heart rate the lower the presence of a heart disease and vice versa. However, it makes sense taking into account that the maximum healthy heart rate depends on the age (220 - age). Thus, higher rates tend to be from younger people."
   ]
  },
  {
   "cell_type": "code",
   "execution_count": 10,
   "metadata": {
    "_kg_hide-input": true,
    "execution": {
     "iopub.execute_input": "2022-05-24T06:42:33.857293Z",
     "iopub.status.busy": "2022-05-24T06:42:33.855080Z",
     "iopub.status.idle": "2022-05-24T06:42:34.187930Z"
    }
   },
   "outputs": [],
   "source": [
    "ggplot(data, aes(thalach, fill=target)) +\n",
    "  geom_histogram(binwidth=10) +\n",
    "  labs(fill=\"Disease\", x=\"Maximum heart rate during exercise\", y=\"Number of patients\")"
   ]
  },
  {
   "cell_type": "markdown",
   "metadata": {},
   "source": [
    "**Patients with a heart rate during exercise lower than 100:**"
   ]
  },
  {
   "cell_type": "code",
   "execution_count": 11,
   "metadata": {
    "_kg_hide-input": true,
    "execution": {
     "iopub.execute_input": "2022-05-24T06:42:34.192784Z",
     "iopub.status.busy": "2022-05-24T06:42:34.190664Z",
     "iopub.status.idle": "2022-05-24T06:42:34.256936Z"
    }
   },
   "outputs": [],
   "source": [
    "data[data$thalach < 100, c(\"age\", \"thalach\", \"target\")]"
   ]
  },
  {
   "cell_type": "markdown",
   "metadata": {},
   "source": [
    "**Patients with a heart rate during exercise higher than 180:**"
   ]
  },
  {
   "cell_type": "code",
   "execution_count": 12,
   "metadata": {
    "_kg_hide-input": true,
    "execution": {
     "iopub.execute_input": "2022-05-24T06:42:34.261682Z",
     "iopub.status.busy": "2022-05-24T06:42:34.259784Z",
     "iopub.status.idle": "2022-05-24T06:42:34.286840Z"
    }
   },
   "outputs": [],
   "source": [
    "data[data$thalach > 180, c(\"age\", \"thalach\", \"target\")]"
   ]
  },
  {
   "cell_type": "markdown",
   "metadata": {},
   "source": [
    "<a id=\"exang\"></a>\n",
    "### exang\n",
    "\n",
    "Whether the patient had angina during exercise\n",
    "\n",
    "- Valor 0: no\n",
    "- Valor 1: yes\n",
    "\n",
    "We can see that this feature is a good indicator for the presence of heart disease. However, we can also see that knowing what is angina and what not is not an easy task, it can be confused with other pains or it can be atypical angina."
   ]
  },
  {
   "cell_type": "code",
   "execution_count": 13,
   "metadata": {
    "_kg_hide-input": true,
    "execution": {
     "iopub.execute_input": "2022-05-24T06:42:34.291608Z",
     "iopub.status.busy": "2022-05-24T06:42:34.289650Z",
     "iopub.status.idle": "2022-05-24T06:42:34.614143Z"
    }
   },
   "outputs": [],
   "source": [
    "ggplot(data, aes(exang, fill=target)) +\n",
    "  geom_bar() +\n",
    "  labs(fill=\"Disease\", x=\"Presence of angina during exercise\", y=\"Number of patients\")"
   ]
  },
  {
   "cell_type": "markdown",
   "metadata": {},
   "source": [
    "<a id=\"oldpeak\"></a>\n",
    "### oldpeak\n",
    "\n",
    "Decrease of the ST segment during exercise according to the same one on rest.\n",
    "\n",
    "The ST segment is a part of the electrocardiogram of a heart beat that is usually found at a certain level in a normal heart beat. A significant displacement of this segment can indicate the presence of a heart disease as we can see in the plot."
   ]
  },
  {
   "cell_type": "code",
   "execution_count": 21,
   "metadata": {
    "_kg_hide-input": true,
    "execution": {
     "iopub.execute_input": "2022-05-24T06:43:38.744379Z",
     "iopub.status.busy": "2022-05-24T06:43:38.742206Z",
     "iopub.status.idle": "2022-05-24T06:43:39.070192Z"
    }
   },
   "outputs": [],
   "source": [
    "ggplot(data, aes(oldpeak, fill=target)) +\n",
    "  geom_histogram(binwidth=0.25) +\n",
    "  labs(fill=\"Disease\", x=\"Depression of the ST segment\", y=\"Number of patients\")"
   ]
  },
  {
   "cell_type": "markdown",
   "metadata": {},
   "source": [
    "<a id=\"slope\"></a>\n",
    "### slope\n",
    "\n",
    "Slope of the ST segment during the most demanding part of the exercise\n",
    "\n",
    "- Value 0: descending\n",
    "- Value 1: flat\n",
    "- Value 2: ascending\n",
    "\n",
    "In the first graph we can see that the slope by itself can help determine whether there is a heart disease or not if it is flat or ascending. However, if the slope is descending doesn't seem to give much information. Because of this, in the second graph we add a third variable where we can see that, if the slope is descending, the depression of the ST segment can help to determine if the patient has a heart disease."
   ]
  },
  {
   "cell_type": "code",
   "execution_count": 15,
   "metadata": {
    "_kg_hide-input": true,
    "execution": {
     "iopub.execute_input": "2022-05-24T06:42:34.954223Z",
     "iopub.status.busy": "2022-05-24T06:42:34.952091Z",
     "iopub.status.idle": "2022-05-24T06:42:35.287048Z"
    }
   },
   "outputs": [],
   "source": [
    "ggplot(data, aes(slope, fill=target)) +\n",
    "  geom_bar() +\n",
    "  labs(fill=\"Disease\", x=\"Slope of the ST segment\", y=\"Number of patients\")"
   ]
  },
  {
   "cell_type": "code",
   "execution_count": 16,
   "metadata": {
    "_kg_hide-input": true,
    "execution": {
     "iopub.execute_input": "2022-05-24T06:42:35.290423Z",
     "iopub.status.busy": "2022-05-24T06:42:35.288507Z",
     "iopub.status.idle": "2022-05-24T06:42:35.727466Z"
    }
   },
   "outputs": [],
   "source": [
    "ggplot(data, aes(x=slope, y=oldpeak, fill=target)) +\n",
    "  geom_boxplot() +\n",
    "  labs(fill=\"Disease\", x=\"Slope of the ST segment\", y=\"Depression of the ST segment\")\n"
   ]
  },
  {
   "cell_type": "code",
   "execution_count": 17,
   "metadata": {
    "execution": {
     "iopub.execute_input": "2022-05-24T06:42:35.731343Z",
     "iopub.status.busy": "2022-05-24T06:42:35.729844Z",
     "iopub.status.idle": "2022-05-24T06:42:35.755891Z"
    }
   },
   "outputs": [],
   "source": [
    "Blinded studies are the type of studies in which patients and in some cases their doctors do not know which drug or treatment is being given.\n",
    "Strengths:\n",
    "•\tThis is used to minimize the potential bias from the placebo effect. A placebo is a substance containing no medication or treatment to satisfy a patient’s expectations to get well and it may improve or worsen the patient outcome. If a participant is aware of not receiving an active treatment, he/she may not comply with the trial protocol or may receive additional treatment outside of the trial. This compromises the outcome of the study.\n",
    "•\tDouble-blinded and triple-blinded studies reduce the bias on account of the investigator who may unconsciously evaluate the participants differently based on the intervention.\n",
    "•\tIt minimizes the differential treatment of groups in a trial or differential assessment of outcome.\n",
    "Limitations:\n",
    "•\tBlinding could be problematic in the studies where a treatment has potential side effects. Building side effects into a placebo which as no therapeutic advantage, may be unethical.\n",
    "•\tFor non-drug studies such as behavior changes or surgery, it may be unethical to blind the participants.\n",
    "•\tBlinded studies are expensive to conduct. It takes several months to complete and requires the examination of all possible variables and use of different groups to collect data.\n",
    "\n"
   ]
  },
  {
   "cell_type": "markdown",
   "metadata": {},
   "source": [
    "<a id=\"thal\"></a>\n",
    "### thal\n",
    "\n",
    "Results of the blood flow observed via the radioactive dye.\n",
    "\n",
    "- Value 0: NULL (dropped from the dataset previously)\n",
    "- Value 1: fixed defect (no blood flow in some part of the heart)\n",
    "- Value 2: normal blood flow\n",
    "- Value 3: reversible defect (a blood flow is observed but it is not normal)\n",
    "\n",
    "This feature and the next one are obtained through a very invasive process for the patients. But, by themselves, they give a very good indication of the presence of a heart disease or not."
   ]
  },
  {
   "cell_type": "code",
   "execution_count": null,
   "metadata": {
    "_kg_hide-input": true
   },
   "outputs": [],
   "source": [
    "ggplot(data, aes(thal, fill=target)) +\n",
    "  geom_bar() +\n",
    "  labs(fill=\"Disease\", x=\"Results of the blood flow\", y=\"Number of patients\")"
   ]
  },
  {
   "cell_type": "markdown",
   "metadata": {},
   "source": [
    "<a id=\"ca\"></a>\n",
    "### ca\n",
    "\n",
    "Number of main blood vessels coloured by the radioactive dye. The number varies between 0 to 4 but the value 4 represents a null value and these have been dropped previously.\n",
    "\n",
    "This feature refers to the number of narrow blood vessels seen, this is why the higher the value of this feature, the more likely it is to have a heart disease."
   ]
  },
  {
   "cell_type": "code",
   "execution_count": null,
   "metadata": {
    "_kg_hide-input": true
   },
   "outputs": [],
   "source": [
    "ggplot(data, aes(ca, fill=target)) +\n",
    "  geom_bar() +\n",
    "  labs(fill=\"Disease\", x=\"Number of main blood vessels coloured\", y=\"Number of patients\")"
   ]
  },
  {
   "cell_type": "markdown",
   "metadata": {},
   "source": [
    "# Additional Analysis Section_BTEC 330"
   ]
  },
  {
   "cell_type": "code",
   "execution_count": 8,
   "metadata": {
    "_kg_hide-input": true,
    "_kg_hide-output": true,
    "execution": {
     "iopub.execute_input": "2022-05-24T06:46:34.361887Z",
     "iopub.status.busy": "2022-05-24T06:46:34.359750Z",
     "iopub.status.idle": "2022-05-24T06:46:35.319870Z"
    }
   },
   "outputs": [
    {
     "ename": "SyntaxError",
     "evalue": "invalid syntax (Temp/ipykernel_18284/540412687.py, line 19)",
     "output_type": "error",
     "traceback": [
      "\u001b[1;36m  File \u001b[1;32m\"C:\\Users\\sadia\\AppData\\Local\\Temp/ipykernel_18284/540412687.py\"\u001b[1;36m, line \u001b[1;32m19\u001b[0m\n\u001b[1;33m    missing_ca_indeces <- which(data$ca %in% 4)\u001b[0m\n\u001b[1;37m                                    ^\u001b[0m\n\u001b[1;31mSyntaxError\u001b[0m\u001b[1;31m:\u001b[0m invalid syntax\n"
     ]
    }
   ],
   "source": [
    "# Libraries\n",
    "library(ggplot2)\n",
    "library(caret)\n",
    "library(rpart.plot)\n",
    "library(dslabs)\n",
    "library(dplyr)\n",
    "library(tidyverse)\n",
    "library(gtools)\n",
    "library(gmodels)\n",
    "library(Rmisc)\n",
    "library(gridExtra)\n",
    "library(extrafont)\n",
    "library(ggthemes)\n",
    "\n",
    "# Read the data\n",
    "data <- read.csv('../input/heart-disease-uci/heart.csv')\n",
    "\n",
    "# Drop the null values\n",
    "missing_ca_indeces <- which(data$ca %in% 4)\n",
    "missing_thal_indeces <-which(data$thal %in% 0)\n",
    "missing_values_indeces <- c(missing_ca_indeces, missing_thal_indeces)\n",
    "data <- data[-missing_values_indeces, ]\n",
    "\n",
    "# Transform categorical variable to R factors\n",
    "data$sex <- as.factor(data$sex)\n",
    "data$cp <- as.factor(data$cp)\n",
    "data$fbs <- as.factor(data$fbs)\n",
    "data$restecg <- as.factor(data$restecg)\n",
    "data$exang <- as.factor(data$exang)\n",
    "data$slope <- as.factor(data$slope)\n",
    "data$thal <- as.factor(data$thal)\n",
    "data$target <- as.factor(data$target)\n",
    "data$thalac <- as.factor(data$target)\n",
    "\n",
    "\n",
    "# Give a better name to the factor values for the graphs\n",
    "levels(data$sex) <- c(\"Female\", \"Male\")\n",
    "levels(data$cp) <- c(\"Asymptomatic\", \"Atypical angina\", \"No angina\", \"Typical angina\")\n",
    "levels(data$fbs) <- c(\"No\", \"Yes\")\n",
    "levels(data$restecg) <- c(\"Hypertrophy\", \"Normal\", \"Abnormalities\")\n",
    "levels(data$exang) <- c(\"No\", \"Yes\")\n",
    "levels(data$slope) <- c(\"Descending\", \"Flat\", \"Ascending\")\n",
    "levels(data$thal) <- c(\"Fixed defect\", \"Normal flow\", \"Reversible defect\")\n",
    "levels(data$target) <- c(\"Yes\", \"No\")"
   ]
  },
  {
   "cell_type": "markdown",
   "metadata": {},
   "source": [
    "### Overview of data"
   ]
  },
  {
   "cell_type": "code",
   "execution_count": 10,
   "metadata": {
    "execution": {
     "iopub.execute_input": "2022-05-24T06:46:46.908962Z",
     "iopub.status.busy": "2022-05-24T06:46:46.906839Z",
     "iopub.status.idle": "2022-05-24T06:46:46.946949Z"
    }
   },
   "outputs": [
    {
     "ename": "NameError",
     "evalue": "name 'glimpse' is not defined",
     "output_type": "error",
     "traceback": [
      "\u001b[1;31m---------------------------------------------------------------------------\u001b[0m",
      "\u001b[1;31mNameError\u001b[0m                                 Traceback (most recent call last)",
      "\u001b[1;32m~\\AppData\\Local\\Temp/ipykernel_18284/3522689588.py\u001b[0m in \u001b[0;36m<module>\u001b[1;34m\u001b[0m\n\u001b[1;32m----> 1\u001b[1;33m \u001b[0mglimpse\u001b[0m\u001b[1;33m(\u001b[0m\u001b[0mdata\u001b[0m\u001b[1;33m)\u001b[0m\u001b[1;33m\u001b[0m\u001b[1;33m\u001b[0m\u001b[0m\n\u001b[0m",
      "\u001b[1;31mNameError\u001b[0m: name 'glimpse' is not defined"
     ]
    }
   ],
   "source": [
    "glimpse(data)"
   ]
  },
  {
   "cell_type": "markdown",
   "metadata": {},
   "source": [
    "### Correlation of age and heart rate\n",
    "The figure shows a negative correlation between age and the maximum heart rate."
   ]
  },
  {
   "cell_type": "code",
   "execution_count": 33,
   "metadata": {
    "execution": {
     "iopub.execute_input": "2022-05-24T06:46:53.701040Z",
     "iopub.status.busy": "2022-05-24T06:46:53.698075Z",
     "iopub.status.idle": "2022-05-24T06:46:54.085522Z"
    }
   },
   "outputs": [],
   "source": [
    "ggplot(data,aes(x=age,y=thalach))+\n",
    "    geom_point()+geom_smooth(method = \"lm\", se= FALSE)+\n",
    "    scale_x_continuous(name=\"Age\")+\n",
    "    scale_y_continuous(name=\"Max heart rate\")+\n",
    "    theme_economist_white(gray_bg = FALSE)+\n",
    "    ggtitle(\"Age & Max Heart Rate\")+\n",
    "    theme(plot.title = element_text(hjust = 0.5))"
   ]
  },
  {
   "cell_type": "markdown",
   "metadata": {},
   "source": [
    "### Maximum heart rate"
   ]
  },
  {
   "cell_type": "code",
   "execution_count": 25,
   "metadata": {
    "execution": {
     "iopub.execute_input": "2022-05-24T06:44:13.567679Z",
     "iopub.status.busy": "2022-05-24T06:44:13.566752Z",
     "iopub.status.idle": "2022-05-24T06:44:13.582113Z"
    }
   },
   "outputs": [],
   "source": [
    "# summary of maximim heart rates\n",
    "summary(data$thalach)"
   ]
  },
  {
   "cell_type": "code",
   "execution_count": 34,
   "metadata": {
    "execution": {
     "iopub.execute_input": "2022-05-24T06:47:07.406975Z",
     "iopub.status.busy": "2022-05-24T06:47:07.404354Z",
     "iopub.status.idle": "2022-05-24T06:47:08.146234Z"
    }
   },
   "outputs": [],
   "source": [
    "\n",
    "# maximum heart rate and target density\n",
    "g1 <- ggplot(data,aes(thalach,col=as.factor(target),fill=as.factor(target)))+\n",
    "  geom_density(alpha=0.2)+\n",
    "  guides(col=F)+\n",
    "  labs(fill=\"Target\",x=\"Maximum heart rate achieved\")+\n",
    "  theme_economist_white(gray_bg = FALSE)\n",
    "\n",
    "# maximum heart rate and target box plot\n",
    " g2 <- ggplot(data,aes(as.factor(target),thalach,fill=as.factor(target)))+\n",
    "  geom_boxplot()+\n",
    "  labs(y=\"Maximum Heart Rate Achieved\",x=\"Target\",fill=\"Target\")+\n",
    "  theme_economist_white(gray_bg = FALSE)\n",
    "\n",
    "\n",
    "grid.arrange(g1, g2, nrow = 1)\n",
    "\n"
   ]
  },
  {
   "cell_type": "markdown",
   "metadata": {},
   "source": [
    "This figure shows that a higher heart rate level is achieved with the target."
   ]
  },
  {
   "cell_type": "markdown",
   "metadata": {},
   "source": [
    "## Discussion:\n",
    "The above figures provide two different graphical representations of the association between the heart rate and the presence of disease. There is a negative correlation between age and heart rate which means the older a person is, the lower their heart rate gets. According to the above data, people with the disease (shown in orange) have lower heart rates than the ones with no disease (shown in blue). It looks like there are more younger people in this dataset with target = 1, than target = 0. \n"
   ]
  },
  {
   "cell_type": "markdown",
   "metadata": {},
   "source": [
    "<a id=\"Bibliography\"></a>\n",
    "## Bibliography\n",
    "\n",
    "In addition to the links provided throughout the notebook, the following resources where also consulted to better understand the topic (note that some may be in spanish):\n",
    "\n",
    "- \"Heart disease and heart attacks\". Khan Academy. Link: [https://www.khanacademy.org/science/health-and-medicine/healthcare-misc/v/heart-disease-and-heart-attacks](https://www.khanacademy.org/science/health-and-medicine/healthcare-misc/v/heart-disease-and-heart-attacks)\n",
    "\n",
    "- \"Cellular respiration introduction\". Khan Academy. Link: [https://www.khanacademy.org/science/biology/cellular-respiration-and-fermentation/intro-to-cellular-respiration/v/introduction-to-cellular-respiration](https://www.khanacademy.org/science/biology/cellular-respiration-and-fermentation/intro-to-cellular-respiration/v/introduction-to-cellular-respiration)\n",
    "\n",
    "- \"Enfermedades cardiovasculares\". Organización Mundial de la Salud. Link: [https://www.who.int/es/news-room/fact-sheets/detail/cardiovascular-diseases-(cvds)](https://www.who.int/es/news-room/fact-sheets/detail/cardiovascular-diseases-(cvds))\n",
    "\n",
    "- \"Heart Disease\". Mayo Clinic. Link: [https://www.mayoclinic.org/diseases-conditions/heart-disease/symptoms-causes/syc-20353118](https://www.mayoclinic.org/diseases-conditions/heart-disease/symptoms-causes/syc-20353118)\n",
    "\n",
    "- \"Coronary artery disease\". Mayo Clinic. Link: [https://www.mayoclinic.org/diseases-conditions/coronary-artery-disease/symptoms-causes/syc-20350613](https://www.mayoclinic.org/diseases-conditions/coronary-artery-disease/symptoms-causes/syc-20350613)\n",
    "\n",
    "- \"Heart Attack (Myocardial Infarction)\". Cleveland Clinic. Link: [https://my.clevelandclinic.org/health/diseases/16818-heart-attack-myocardial-infarction](https://my.clevelandclinic.org/health/diseases/16818-heart-attack-myocardial-infarction)\n",
    "\n",
    "- \"Coronary Artery Disease\". Cleveland Clinic. Link: [https://my.clevelandclinic.org/health/diseases/16898-coronary-artery-disease](https://my.clevelandclinic.org/health/diseases/16898-coronary-artery-disease)\n",
    "\n",
    "- Institute of Medicine (US) Committee on Social Security Cardiovascular Disability Criteria. Cardiovascular Disability: Updating the Social Security Listings. Washington (DC): National Academies Press (US); 2010. 7, Ischemic Heart Disease. Available from: https://www.ncbi.nlm.nih.gov/books/NBK209964/\n"
   ]
  },
  {
   "cell_type": "markdown",
   "metadata": {},
   "source": [
    "Hope this was helpful, feel free to give an upvote if you like it. Also, if I made any mistake or if you have any question feel free to write it in the comments 🙂"
   ]
  }
 ],
 "metadata": {
  "kernelspec": {
   "display_name": "Python 3 (ipykernel)",
   "language": "python",
   "name": "python3"
  },
  "language_info": {
   "codemirror_mode": {
    "name": "ipython",
    "version": 3
   },
   "file_extension": ".py",
   "mimetype": "text/x-python",
   "name": "python",
   "nbconvert_exporter": "python",
   "pygments_lexer": "ipython3",
   "version": "3.9.7"
  }
 },
 "nbformat": 4,
 "nbformat_minor": 4
}
